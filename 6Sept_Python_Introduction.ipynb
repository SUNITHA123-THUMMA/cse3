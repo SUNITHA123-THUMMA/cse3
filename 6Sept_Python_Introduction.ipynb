{
  "cells": [
    {
      "cell_type": "markdown",
      "metadata": {
        "id": "view-in-github",
        "colab_type": "text"
      },
      "source": [
        "<a href=\"https://colab.research.google.com/github/SUNITHA123-THUMMA/cse3/blob/master/6Sept_Python_Introduction.ipynb\" target=\"_parent\"><img src=\"https://colab.research.google.com/assets/colab-badge.svg\" alt=\"Open In Colab\"/></a>"
      ]
    },
    {
      "cell_type": "markdown",
      "id": "8bd65ddb",
      "metadata": {
        "id": "8bd65ddb"
      },
      "source": [
        "### IDE (Integrated Development Environment)\n",
        "\n",
        "Recommended IDE<br>\n",
        "\n",
        "1) Jupyter<br>\n",
        "2) Google Colab<br>\n",
        "3) VS Code<br>\n",
        "4) PyCharm<br>\n",
        "5) Spyder<br>\n",
        "6) Sublime<br>\n"
      ]
    },
    {
      "cell_type": "markdown",
      "id": "00a54372",
      "metadata": {
        "id": "00a54372"
      },
      "source": [
        "#### Features of Python\n",
        "1) Interpreted language<br>\n",
        "2) High level language<br>\n",
        "3) Supports OOP concepts<br>\n",
        "4) User freindly syntax, easy to grasp, learn and code<br>\n",
        "5) Free and open source<br>\n",
        "6) Supports GUI<br>\n",
        "7) Portable<br>\n",
        "8) vast Community to support<br>\n",
        "9) Provides a lrage number of libraries for different applications<br>\n",
        "10) We can create our own library<br>\n",
        "11) Automatic memory management<br>\n",
        "12) Dynamically typed<br>"
      ]
    },
    {
      "cell_type": "markdown",
      "id": "b546aa57",
      "metadata": {
        "id": "b546aa57"
      },
      "source": [
        "#### Applications of Python\n",
        "\n",
        "1) Data Science/Analysis<br>\n",
        "2) Vizualization of charts/graphs<br>\n",
        "3) Machine Leanring/ AI<br>\n",
        "4) Deep Learning<br>\n",
        "5) NLP (natural Language Processing)<br>\n",
        "6) CV (Computer Vision) - Image processing<br>\n",
        "7) Web Development<br>\n",
        "8) Web Scraping<br>\n",
        "9) Desktop GUI<br>\n",
        "10) Automation<br>\n",
        "11) Audio and Video Analysis<br>\n",
        "12) Speech recognition<br>\n",
        "13) Network Programming<br>\n",
        "14) Game development<br>\n",
        "15) Rapid protyping<br>\n",
        "16) Application development<br>\n",
        "17) API fetching<br>\n",
        "18) REST API<br>\n",
        "19) Neural Style Transfer<br>\n",
        "20) Crypotcurreny mining<br>\n",
        "21) etc"
      ]
    },
    {
      "cell_type": "code",
      "execution_count": null,
      "id": "586aa51d",
      "metadata": {
        "id": "586aa51d",
        "outputId": "b7cb5099-18d8-48dd-b140-52b8a9298053"
      },
      "outputs": [
        {
          "name": "stdout",
          "output_type": "stream",
          "text": [
            "Welcome to Python\n"
          ]
        }
      ],
      "source": [
        "print('Welcome to Python')"
      ]
    },
    {
      "cell_type": "code",
      "execution_count": null,
      "id": "67a08edd",
      "metadata": {
        "id": "67a08edd"
      },
      "outputs": [],
      "source": [
        "# Sept\n",
        "\n",
        "# Variable, data types,operators\n",
        "# If-else,for and while loop\n",
        "# List, Tuple, Sets and Dictionary\n",
        "# Function\n",
        "# Exercises\n",
        "# Python Inbuilt functions\n",
        "# File handling\n",
        "# Exception handling\n",
        "# Numpy "
      ]
    },
    {
      "cell_type": "code",
      "execution_count": null,
      "id": "09c39cc7",
      "metadata": {
        "id": "09c39cc7"
      },
      "outputs": [],
      "source": [
        "# Oct\n",
        "# 1) Data Science\n",
        "# 2) ML\n",
        "# 3) AI"
      ]
    }
  ],
  "metadata": {
    "kernelspec": {
      "display_name": "Python 3",
      "language": "python",
      "name": "python3"
    },
    "language_info": {
      "codemirror_mode": {
        "name": "ipython",
        "version": 3
      },
      "file_extension": ".py",
      "mimetype": "text/x-python",
      "name": "python",
      "nbconvert_exporter": "python",
      "pygments_lexer": "ipython3",
      "version": "3.8.8"
    },
    "colab": {
      "provenance": [],
      "include_colab_link": true
    }
  },
  "nbformat": 4,
  "nbformat_minor": 5
}