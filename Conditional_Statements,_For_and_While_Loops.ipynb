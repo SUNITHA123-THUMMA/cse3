{
  "cells": [
    {
      "cell_type": "markdown",
      "metadata": {
        "id": "view-in-github",
        "colab_type": "text"
      },
      "source": [
        "<a href=\"https://colab.research.google.com/github/SUNITHA123-THUMMA/cse3/blob/master/Conditional_Statements%2C_For_and_While_Loops.ipynb\" target=\"_parent\"><img src=\"https://colab.research.google.com/assets/colab-badge.svg\" alt=\"Open In Colab\"/></a>"
      ]
    },
    {
      "cell_type": "markdown",
      "id": "8fe54902",
      "metadata": {
        "id": "8fe54902"
      },
      "source": [
        "#### Print Formatting methods"
      ]
    },
    {
      "cell_type": "code",
      "execution_count": null,
      "id": "0005f85e",
      "metadata": {
        "id": "0005f85e",
        "outputId": "c75f7467-2ff5-429e-95c7-a197a210a313"
      },
      "outputs": [
        {
          "name": "stdout",
          "output_type": "stream",
          "text": [
            "Amit whose age is 22 lives in Bangalore\n",
            "Amit whose age is 22 lives in Bangalore\n",
            "22 whose age is Bangalore lives in Amit\n",
            "Amit whose age is 22 lives in Bangalore\n"
          ]
        }
      ],
      "source": [
        "name = \"Amit\"\n",
        "age = 22\n",
        "city = \"Bangalore\"\n",
        "print(name,'whose age is',age,'lives in',city)  # comma separated method\n",
        "print(f'{name} whose age is {age} lives in {city}')  # f-formatting\n",
        "print(f\"{age} whose age is {city} lives in {name}\")  # f-formatting\n",
        "print(\"{} whose age is {} lives in {}\".format(name,age,city))  # format method"
      ]
    },
    {
      "cell_type": "markdown",
      "id": "c2e43c7f",
      "metadata": {
        "id": "c2e43c7f"
      },
      "source": [
        "#### Indentation\n",
        "1) 1 tab space is referred to as indentation<br>\n",
        "2) Indentation is used in conditional statements, for and while loops, functions etc"
      ]
    },
    {
      "cell_type": "markdown",
      "id": "5f470454",
      "metadata": {
        "id": "5f470454"
      },
      "source": [
        "### If-elif-else\n",
        "<pre>\n",
        "if condition1 :\n",
        "    code1\n",
        "elif condition2:\n",
        "    code2\n",
        "elif condition3:\n",
        "    code3\n",
        "else:\n",
        "    code4\n",
        "</pre>"
      ]
    },
    {
      "cell_type": "markdown",
      "id": "1cf85067",
      "metadata": {
        "id": "1cf85067"
      },
      "source": [
        "### Nested -if (if-inside if)\n",
        "<pre>\n",
        "if condition1 :\n",
        "    if condition_1a :\n",
        "        code_a\n",
        "    else condition_1b:\n",
        "        code_b\n",
        "else condition2:\n",
        "    code_2\n",
        "</pre>"
      ]
    },
    {
      "cell_type": "markdown",
      "id": "e04f5394",
      "metadata": {
        "id": "e04f5394"
      },
      "source": [
        "#### 1) if"
      ]
    },
    {
      "cell_type": "code",
      "execution_count": null,
      "id": "47a9bc8d",
      "metadata": {
        "id": "47a9bc8d"
      },
      "outputs": [],
      "source": [
        "n = 22\n",
        "if n%5==0 :\n",
        "    print(n,'is divisible by 5')"
      ]
    },
    {
      "cell_type": "code",
      "execution_count": null,
      "id": "ea01da04",
      "metadata": {
        "id": "ea01da04",
        "outputId": "87043635-ed61-4339-fc57-837347750f68"
      },
      "outputs": [
        {
          "name": "stdout",
          "output_type": "stream",
          "text": [
            "40 is divisble by 5\n"
          ]
        }
      ],
      "source": [
        "n = 40\n",
        "if n%5==0 :\n",
        "    print(n,'is divisble by 5')"
      ]
    },
    {
      "cell_type": "markdown",
      "id": "5a9b91b2",
      "metadata": {
        "id": "5a9b91b2"
      },
      "source": [
        "#### 2) if-else"
      ]
    },
    {
      "cell_type": "code",
      "execution_count": null,
      "id": "33d98b06",
      "metadata": {
        "id": "33d98b06",
        "outputId": "f3a2b070-bf8d-4ae1-e177-5cb35d7cdcd0"
      },
      "outputs": [
        {
          "name": "stdout",
          "output_type": "stream",
          "text": [
            "35 is divisble by 7 and 5\n"
          ]
        }
      ],
      "source": [
        "n = 35\n",
        "if n%7==0 and n%5==0 :\n",
        "    print(n,'is divisble by 7 and 5')\n",
        "else :\n",
        "    print(n,'is not divisible by 7')"
      ]
    },
    {
      "cell_type": "markdown",
      "id": "11a96b3f",
      "metadata": {
        "id": "11a96b3f"
      },
      "source": [
        "#### 3) if-elif\n",
        "Mulitple Condition Checking"
      ]
    },
    {
      "cell_type": "code",
      "execution_count": null,
      "id": "d629210b",
      "metadata": {
        "id": "d629210b",
        "outputId": "a91bd5f0-7f8e-46e9-a24a-5021b57057b7"
      },
      "outputs": [
        {
          "name": "stdout",
          "output_type": "stream",
          "text": [
            "Python Developer\n"
          ]
        }
      ],
      "source": [
        "lang = \"Python\"\n",
        "if lang==\"Java\":\n",
        "    print('Java Developer')\n",
        "elif lang == \"Ruby\":\n",
        "    print('Ruby Developer')\n",
        "elif lang == \"Golang\":\n",
        "    print('Golang Developer')\n",
        "elif lang == \"Python\":\n",
        "    print('Python Developer')\n",
        "elif lang == \"React\":\n",
        "    print('React Developer')\n",
        "elif lang == \"Angular\":\n",
        "    print('Angular Developer')\n"
      ]
    },
    {
      "cell_type": "code",
      "execution_count": null,
      "id": "ca1d4a70",
      "metadata": {
        "id": "ca1d4a70",
        "outputId": "12cd32fa-6ce6-4c74-b57e-ca9ebe357dab"
      },
      "outputs": [
        {
          "name": "stdout",
          "output_type": "stream",
          "text": [
            "Java Developer\n"
          ]
        }
      ],
      "source": [
        "lang = \"Java\"\n",
        "if lang==\"Rust\":\n",
        "    print('Rust Developer')\n",
        "elif lang == \"Ruby\":\n",
        "    print('Ruby Developer')\n",
        "elif lang == \"Java\":\n",
        "    print('Java Developer')\n",
        "elif lang == \"Python\":\n",
        "    print('Python Developer')\n",
        "elif lang == \"Java\":\n",
        "    print('Java2 Developer')\n",
        "elif lang == \"Angular\":\n",
        "    print('Angular Developer')"
      ]
    },
    {
      "cell_type": "markdown",
      "id": "367f3f83",
      "metadata": {
        "id": "367f3f83"
      },
      "source": [
        "#### 5) if-elif-else"
      ]
    },
    {
      "cell_type": "code",
      "execution_count": null,
      "id": "721a2bbb",
      "metadata": {
        "id": "721a2bbb",
        "outputId": "18c4cd9a-4be1-468d-9c19-aeb15ec9c156"
      },
      "outputs": [
        {
          "name": "stdout",
          "output_type": "stream",
          "text": [
            "None of the above\n"
          ]
        }
      ],
      "source": [
        "lang = \"Python\"\n",
        "if lang==\"Java\":\n",
        "    print('Java Developer')\n",
        "elif lang == \"Ruby\":\n",
        "    print('Ruby Developer')\n",
        "elif lang == \"Golang\":\n",
        "    print('Golang Developer')\n",
        "elif lang == \"Node\":\n",
        "    print('Node Developer')\n",
        "elif lang == \"React\":\n",
        "    print('React Developer')\n",
        "elif lang == \"Angular\":\n",
        "    print('Angular Developer')\n",
        "else:\n",
        "    print('None of the above')"
      ]
    },
    {
      "cell_type": "markdown",
      "id": "f40431f9",
      "metadata": {
        "id": "f40431f9"
      },
      "source": [
        "#### 5) Nested If - if inside if"
      ]
    },
    {
      "cell_type": "code",
      "execution_count": null,
      "id": "7327792c",
      "metadata": {
        "id": "7327792c",
        "outputId": "c1c62299-472f-454e-f9ff-79447905c295"
      },
      "outputs": [
        {
          "name": "stdout",
          "output_type": "stream",
          "text": [
            "19 is not divisible by 3\n"
          ]
        }
      ],
      "source": [
        "n = 19\n",
        "if n%3==0:\n",
        "    if n%5==0:\n",
        "        print(n,'is divisible by 3 and 5')\n",
        "    else:\n",
        "        print(n,'is divisible by 3')\n",
        "else:\n",
        "    print(n,'is not divisible by 3')"
      ]
    },
    {
      "cell_type": "code",
      "execution_count": null,
      "id": "70ad9e8f",
      "metadata": {
        "id": "70ad9e8f",
        "outputId": "8de3aca7-7618-45c5-c4ae-53cbed2541db"
      },
      "outputs": [
        {
          "name": "stdout",
          "output_type": "stream",
          "text": [
            "55 is divisible by 5\n"
          ]
        }
      ],
      "source": [
        "n = 55\n",
        "if n%5==0:\n",
        "    if n%3==0:\n",
        "        print(f'{n} is divisible by 15')         # C1\n",
        "    else:\n",
        "        print('{} is divisible by 5'.format(n))  # C2\n",
        "else:\n",
        "    if n%13==0:\n",
        "        print(f'{n} is divisible by 13')  # C3\n",
        "    else:\n",
        "        print(n,'is not divisible by 5')  # C4\n",
        "        \n",
        "        "
      ]
    },
    {
      "cell_type": "markdown",
      "id": "e7cbb3d2",
      "metadata": {
        "id": "e7cbb3d2"
      },
      "source": [
        "### For Loops\n",
        "In range(start,end,step) method\n",
        "1) In ascending order, iteration proceeds from start till end-1, step size is positive<br>\n",
        "2) In descending order, iteration proceeds from start till end+1, step size is negative<br>\n",
        "3) Default step value = +1<br>\n",
        "4) range() works only on int<br>\n",
        "5) If only one value is passed in range function, it is considered as end value<br>\n",
        "6) Default start value is 0, if not mentioned<br>"
      ]
    },
    {
      "cell_type": "code",
      "execution_count": null,
      "id": "8e0beb23",
      "metadata": {
        "id": "8e0beb23",
        "outputId": "74b64c2e-cfe4-4869-ed78-9bf5fe46d879"
      },
      "outputs": [
        {
          "name": "stdout",
          "output_type": "stream",
          "text": [
            "0\n",
            "1\n",
            "2\n",
            "3\n"
          ]
        }
      ],
      "source": [
        "print(0)\n",
        "print(1)\n",
        "print(2)\n",
        "print(3)"
      ]
    },
    {
      "cell_type": "code",
      "execution_count": null,
      "id": "0d6463a4",
      "metadata": {
        "id": "0d6463a4",
        "outputId": "3d9d2fc2-03d9-4368-c604-8995d41a7ed4"
      },
      "outputs": [
        {
          "name": "stdout",
          "output_type": "stream",
          "text": [
            "0\n",
            "1\n",
            "2\n",
            "3\n"
          ]
        }
      ],
      "source": [
        "for i in range(4): # start=0, end=4, step=1\n",
        "    print(i)"
      ]
    },
    {
      "cell_type": "code",
      "execution_count": null,
      "id": "7a2d45b1",
      "metadata": {
        "id": "7a2d45b1",
        "outputId": "b76fcad3-8fa3-451f-eee4-271e90a153a3"
      },
      "outputs": [
        {
          "name": "stdout",
          "output_type": "stream",
          "text": [
            "0\n",
            "1\n",
            "2\n",
            "3\n",
            "4\n",
            "5\n",
            "6\n"
          ]
        }
      ],
      "source": [
        "for d in range(7):  # start=0, end=7, step=1\n",
        "    print(d)"
      ]
    },
    {
      "cell_type": "code",
      "execution_count": null,
      "id": "dbdb350a",
      "metadata": {
        "id": "dbdb350a",
        "outputId": "92d819cc-d9b5-417c-d83a-a22cb1349665"
      },
      "outputs": [
        {
          "name": "stdout",
          "output_type": "stream",
          "text": [
            "3\n",
            "4\n",
            "5\n",
            "6\n",
            "7\n",
            "8\n",
            "9\n"
          ]
        }
      ],
      "source": [
        "for g in range(3,10): # start=3, end=10, step=1\n",
        "    print(g)"
      ]
    },
    {
      "cell_type": "code",
      "execution_count": null,
      "id": "ffc7b629",
      "metadata": {
        "id": "ffc7b629",
        "outputId": "2d573abe-3751-4d77-f844-eaa9c51a40d1"
      },
      "outputs": [
        {
          "name": "stdout",
          "output_type": "stream",
          "text": [
            "25\n",
            "26\n",
            "27\n",
            "28\n",
            "29\n",
            "30\n",
            "31\n"
          ]
        }
      ],
      "source": [
        "for r in range(25,32): # start=25, end=32, step=1\n",
        "    print(r)"
      ]
    },
    {
      "cell_type": "code",
      "execution_count": null,
      "id": "5fa609cc",
      "metadata": {
        "id": "5fa609cc",
        "outputId": "76765edd-deb6-4311-b934-693958c7eab0"
      },
      "outputs": [
        {
          "name": "stdout",
          "output_type": "stream",
          "text": [
            "10\n",
            "12\n",
            "14\n",
            "16\n",
            "18\n"
          ]
        }
      ],
      "source": [
        "for h in range(10,20,2): # start=10,end=20,step=2\n",
        "    print(h)"
      ]
    },
    {
      "cell_type": "code",
      "execution_count": null,
      "id": "a3e8caab",
      "metadata": {
        "id": "a3e8caab",
        "outputId": "01d1f396-38fc-4c95-8bbb-a4d0c73d821f"
      },
      "outputs": [
        {
          "name": "stdout",
          "output_type": "stream",
          "text": [
            "9 16 23 30 37 44 51 58 "
          ]
        }
      ],
      "source": [
        "for i in range(9,63,7): # start=9,end=63,step=7\n",
        "    print(i, end=\" \")"
      ]
    },
    {
      "cell_type": "code",
      "execution_count": null,
      "id": "9f90fa50",
      "metadata": {
        "id": "9f90fa50",
        "outputId": "ecf69073-9060-49a6-8e0f-8990f5785756"
      },
      "outputs": [
        {
          "name": "stdout",
          "output_type": "stream",
          "text": [
            "-5 -3 -1 1 "
          ]
        }
      ],
      "source": [
        "for i in range(-5,3,2): # start=-5,end=3,step=2\n",
        "    print(i,end=' ')"
      ]
    },
    {
      "cell_type": "code",
      "execution_count": null,
      "id": "e0d6c498",
      "metadata": {
        "id": "e0d6c498",
        "outputId": "1e76c902-6b8e-40b2-c5f2-5aad83f2275d"
      },
      "outputs": [
        {
          "name": "stdout",
          "output_type": "stream",
          "text": [
            "-10 -9 -8 -7 -6 -5 "
          ]
        }
      ],
      "source": [
        "for i in range(-10,-4): # start=-10,end=-4,step=+1\n",
        "    print(i,end = ' ')"
      ]
    },
    {
      "cell_type": "code",
      "execution_count": null,
      "id": "1ed2ff0c",
      "metadata": {
        "id": "1ed2ff0c",
        "outputId": "1d90f575-d21b-4daa-8f32-37a892f47d66"
      },
      "outputs": [
        {
          "name": "stdout",
          "output_type": "stream",
          "text": [
            "34 38 42 46 "
          ]
        }
      ],
      "source": [
        "for i in range(34,50,4):\n",
        "    print(i,end=\" \")"
      ]
    },
    {
      "cell_type": "code",
      "execution_count": null,
      "id": "e4ec35e6",
      "metadata": {
        "id": "e4ec35e6"
      },
      "outputs": [],
      "source": [
        "for i in range(14,5): # start=14, end=5, step=1\n",
        "    print(i)"
      ]
    },
    {
      "cell_type": "code",
      "execution_count": null,
      "id": "3d5b9dcb",
      "metadata": {
        "id": "3d5b9dcb",
        "outputId": "4feb58cb-2dbd-4c95-a5e9-b3f75d91c02a"
      },
      "outputs": [
        {
          "name": "stdout",
          "output_type": "stream",
          "text": [
            "14 13 12 11 10 9 8 7 6 "
          ]
        }
      ],
      "source": [
        "for i in range(14,5,-1): # start=14, end=5, step=-1\n",
        "    print(i,end=\" \")"
      ]
    },
    {
      "cell_type": "code",
      "execution_count": null,
      "id": "56de848c",
      "metadata": {
        "id": "56de848c",
        "outputId": "ac7ecacd-3eaa-4012-b71c-0554a122577e"
      },
      "outputs": [
        {
          "name": "stdout",
          "output_type": "stream",
          "text": [
            "60 55 50 45 40 35 30 25 20 15 "
          ]
        }
      ],
      "source": [
        "for i in range(60,10,-5): # start=60, end=10, step=-5\n",
        "    print(i,end=\" \")"
      ]
    },
    {
      "cell_type": "code",
      "execution_count": null,
      "id": "d0be341f",
      "metadata": {
        "id": "d0be341f",
        "outputId": "2cbfd9ab-5f1c-4708-ceaf-188c046ac374"
      },
      "outputs": [
        {
          "ename": "TypeError",
          "evalue": "'float' object cannot be interpreted as an integer",
          "output_type": "error",
          "traceback": [
            "\u001b[1;31m---------------------------------------------------------------------------\u001b[0m",
            "\u001b[1;31mTypeError\u001b[0m                                 Traceback (most recent call last)",
            "\u001b[1;32m<ipython-input-56-f179a864f963>\u001b[0m in \u001b[0;36m<module>\u001b[1;34m\u001b[0m\n\u001b[0;32m      1\u001b[0m \u001b[1;31m# range() doesnt work on float\u001b[0m\u001b[1;33m\u001b[0m\u001b[1;33m\u001b[0m\u001b[1;33m\u001b[0m\u001b[0m\n\u001b[1;32m----> 2\u001b[1;33m \u001b[1;32mfor\u001b[0m \u001b[0mi\u001b[0m \u001b[1;32min\u001b[0m \u001b[0mrange\u001b[0m\u001b[1;33m(\u001b[0m\u001b[1;36m3.2\u001b[0m\u001b[1;33m,\u001b[0m\u001b[1;36m4.9\u001b[0m\u001b[1;33m,\u001b[0m\u001b[1;36m0.3\u001b[0m\u001b[1;33m)\u001b[0m\u001b[1;33m:\u001b[0m\u001b[1;33m\u001b[0m\u001b[1;33m\u001b[0m\u001b[0m\n\u001b[0m\u001b[0;32m      3\u001b[0m     \u001b[0mprint\u001b[0m\u001b[1;33m(\u001b[0m\u001b[0mi\u001b[0m\u001b[1;33m)\u001b[0m\u001b[1;33m\u001b[0m\u001b[1;33m\u001b[0m\u001b[0m\n",
            "\u001b[1;31mTypeError\u001b[0m: 'float' object cannot be interpreted as an integer"
          ]
        }
      ],
      "source": [
        "# range() doesnt work on float\n",
        "for i in range(3.2,4.9,0.3):\n",
        "    print(i)"
      ]
    },
    {
      "cell_type": "markdown",
      "id": "dca2a312",
      "metadata": {
        "id": "dca2a312"
      },
      "source": [
        "#### Iterate on Strings\n",
        "1) Positive indexes start from 0 and move from left to right in increasing order<br>\n",
        "2) Negative indexes start from -1 and move from right to left in decreasing order"
      ]
    },
    {
      "cell_type": "code",
      "execution_count": null,
      "id": "eee214ac",
      "metadata": {
        "id": "eee214ac",
        "outputId": "488662f6-8cc7-4b62-da83-b5d7ea4a8c60"
      },
      "outputs": [
        {
          "name": "stdout",
          "output_type": "stream",
          "text": [
            "3\n",
            "Bat\n"
          ]
        }
      ],
      "source": [
        "w = \"Bat\"\n",
        "print(len(w))\n",
        "print(w)"
      ]
    },
    {
      "cell_type": "code",
      "execution_count": null,
      "id": "1b94ccc0",
      "metadata": {
        "id": "1b94ccc0",
        "outputId": "f7497402-69f6-4b6d-cee9-81465ef0d531"
      },
      "outputs": [
        {
          "name": "stdout",
          "output_type": "stream",
          "text": [
            "B\n",
            "a\n",
            "t\n",
            "t\n",
            "a\n",
            "B\n"
          ]
        }
      ],
      "source": [
        "# positive indexing\n",
        "print(w[0])\n",
        "print(w[1])\n",
        "print(w[2])\n",
        "# negative indexing\n",
        "print(w[-1])\n",
        "print(w[-2])\n",
        "print(w[-3])"
      ]
    },
    {
      "cell_type": "code",
      "execution_count": null,
      "id": "89881d71",
      "metadata": {
        "id": "89881d71",
        "outputId": "73493d63-082e-4e96-97f1-94d0cc764388"
      },
      "outputs": [
        {
          "name": "stdout",
          "output_type": "stream",
          "text": [
            "T o d a y "
          ]
        }
      ],
      "source": [
        "# Method-1 - Character wise iteration\n",
        "s = \"Today\"\n",
        "for i in s:  # i corresponds to each character of the string s\n",
        "    print(i,end=\" \")"
      ]
    },
    {
      "cell_type": "code",
      "execution_count": null,
      "id": "3b496de6",
      "metadata": {
        "id": "3b496de6",
        "outputId": "4a1be91c-58c1-4814-8fdf-72d5180be71e"
      },
      "outputs": [
        {
          "name": "stdout",
          "output_type": "stream",
          "text": [
            "T o d a y "
          ]
        }
      ],
      "source": [
        "# Method-2 - Index wise iteration\n",
        "s = \"Today\"\n",
        "for i in range(len(s)): # i corresponds to the index=> start=0,end=len(s)=5,step=+1 \n",
        "    print(s[i],end=\" \") # i=0,1,2,3,4\n",
        "    \n",
        "# i=0, s[0]=T\n",
        "# i=1, s[1]=o\n",
        "# i=2, s[2]=d\n",
        "# i=3, s[3]=a\n",
        "# i=4, s[4]=y"
      ]
    },
    {
      "cell_type": "code",
      "execution_count": null,
      "id": "919392e2",
      "metadata": {
        "id": "919392e2",
        "outputId": "e0bd35fa-f96d-42a0-aabb-12654a8caa1e"
      },
      "outputs": [
        {
          "name": "stdout",
          "output_type": "stream",
          "text": [
            "0 T\n",
            "1 o\n",
            "2 d\n",
            "3 a\n",
            "4 y\n"
          ]
        }
      ],
      "source": [
        "# Method-2 - Index wise iteration\n",
        "s = \"Today\"\n",
        "for i in range(len(s)): # i corresponds to the index=> start=0,end=len(s)=5,step=+1 \n",
        "    print(i,s[i]) # i=0,1,2,3,4\n",
        "\n",
        "# Explanation\n",
        "# i=0, s[0]=T\n",
        "# i=1, s[1]=o\n",
        "# i=2, s[2]=d\n",
        "# i=3, s[3]=a\n",
        "# i=4, s[4]=y"
      ]
    },
    {
      "cell_type": "code",
      "execution_count": null,
      "id": "2506a84a",
      "metadata": {
        "id": "2506a84a",
        "outputId": "1cae25dc-ed84-4026-b54f-cb5704940f30"
      },
      "outputs": [
        {
          "name": "stdout",
          "output_type": "stream",
          "text": [
            "l c o "
          ]
        }
      ],
      "source": [
        "s = \"Welcome\"\n",
        "for i in range(2,len(s)-2): # i corresponds to the index=> start=2,end=len(s)-2=7-2=5,step=+1 \n",
        "    print(s[i],end=\" \")"
      ]
    },
    {
      "cell_type": "markdown",
      "id": "1ad409d1",
      "metadata": {
        "id": "1ad409d1"
      },
      "source": [
        "### While Loops"
      ]
    },
    {
      "cell_type": "code",
      "execution_count": null,
      "id": "73d0a356",
      "metadata": {
        "id": "73d0a356",
        "outputId": "ff6f266e-90ca-467f-8fe5-dea04cc58c1f"
      },
      "outputs": [
        {
          "name": "stdout",
          "output_type": "stream",
          "text": [
            "0 1 2 3 4 "
          ]
        }
      ],
      "source": [
        "i=0   # start\n",
        "while i<5:  # end\n",
        "    print(i,end=\" \")\n",
        "    i += 1  # step"
      ]
    },
    {
      "cell_type": "code",
      "execution_count": null,
      "id": "2d0a23dd",
      "metadata": {
        "id": "2d0a23dd",
        "outputId": "1b527385-0654-4223-c50e-4d7d9aae3eca"
      },
      "outputs": [
        {
          "name": "stdout",
          "output_type": "stream",
          "text": [
            "1 2 3 4 5 "
          ]
        }
      ],
      "source": [
        "i=0                # start\n",
        "while i<5:         # end\n",
        "    i += 1         # step\n",
        "    print(i,end=' ')\n",
        "# i=0,0<5=>True,i=i+1,i=1,print(1)\n",
        "# i=1,1<5=>True,i=i+1,i=2,print(2)\n",
        "# i=2,2<5=>True,i=i+1,i=3,print(3)\n",
        "# i=3,3<5=>True,i=i+1,i=4,print(4)\n",
        "# i=4,4<5=>True,i=i+1,i=5,print(5)"
      ]
    },
    {
      "cell_type": "code",
      "execution_count": null,
      "id": "3c5d5c46",
      "metadata": {
        "id": "3c5d5c46",
        "outputId": "1793c240-73c6-4615-fd88-b3bda67ab527"
      },
      "outputs": [
        {
          "name": "stdout",
          "output_type": "stream",
          "text": [
            "17 15 13 11 9 7 5 "
          ]
        }
      ],
      "source": [
        "d = 17   # start=17\n",
        "while d>4:  # end=4\n",
        "    print(d,end=\" \")\n",
        "    d -= 2  # step =-2"
      ]
    },
    {
      "cell_type": "code",
      "execution_count": null,
      "id": "3b970d32",
      "metadata": {
        "id": "3b970d32",
        "outputId": "08dbad77-3ca5-49c0-e668-78dc6f0381f1"
      },
      "outputs": [
        {
          "name": "stdout",
          "output_type": "stream",
          "text": [
            "17 16 "
          ]
        }
      ],
      "source": [
        "d = 17   # start=17\n",
        "while d>15:  # end=15\n",
        "    print(d,end=\" \")\n",
        "    d -= 1  # step = 1"
      ]
    },
    {
      "cell_type": "markdown",
      "id": "2027a564",
      "metadata": {
        "id": "2027a564"
      },
      "source": [
        "#### Iterate on Strings"
      ]
    },
    {
      "cell_type": "code",
      "execution_count": null,
      "id": "f06368c8",
      "metadata": {
        "id": "f06368c8",
        "outputId": "56af2b7e-9570-4493-a403-6e5a32e86097"
      },
      "outputs": [
        {
          "name": "stdout",
          "output_type": "stream",
          "text": [
            "17\n"
          ]
        }
      ],
      "source": [
        "s = \"Welcome to Python\"\n",
        "print(len(s))\n",
        "# Welcome-7, to-2, Python - 6, space chars - 2"
      ]
    },
    {
      "cell_type": "code",
      "execution_count": null,
      "id": "6910542d",
      "metadata": {
        "id": "6910542d",
        "outputId": "b3cc3c09-3ba3-4d98-b6e7-15ae6d44d1bb"
      },
      "outputs": [
        {
          "name": "stdout",
          "output_type": "stream",
          "text": [
            "Python"
          ]
        }
      ],
      "source": [
        "s = \"Python\"\n",
        "i=0\n",
        "while i<len(s): # i<6\n",
        "    print(s[i],end=\"\")\n",
        "    i += 1\n",
        "# i=0, s[0] = P\n",
        "# i=1, s[1] = y\n",
        "# i=2, s[2] = t\n",
        "# i=3, s[3] = h\n",
        "# i=4, s[4] = o\n",
        "# i=5, s[5] = n"
      ]
    },
    {
      "cell_type": "code",
      "execution_count": null,
      "id": "60225f62",
      "metadata": {
        "id": "60225f62",
        "outputId": "ac520cae-6885-4f13-f736-b04738174e3b"
      },
      "outputs": [
        {
          "name": "stdout",
          "output_type": "stream",
          "text": [
            "ython"
          ]
        },
        {
          "ename": "IndexError",
          "evalue": "string index out of range",
          "output_type": "error",
          "traceback": [
            "\u001b[1;31m---------------------------------------------------------------------------\u001b[0m",
            "\u001b[1;31mIndexError\u001b[0m                                Traceback (most recent call last)",
            "\u001b[1;32m<ipython-input-78-0165641242e8>\u001b[0m in \u001b[0;36m<module>\u001b[1;34m\u001b[0m\n\u001b[0;32m      3\u001b[0m \u001b[1;32mwhile\u001b[0m \u001b[0mi\u001b[0m\u001b[1;33m<\u001b[0m\u001b[0mlen\u001b[0m\u001b[1;33m(\u001b[0m\u001b[0ms\u001b[0m\u001b[1;33m)\u001b[0m\u001b[1;33m:\u001b[0m \u001b[1;31m# i<6\u001b[0m\u001b[1;33m\u001b[0m\u001b[1;33m\u001b[0m\u001b[0m\n\u001b[0;32m      4\u001b[0m     \u001b[0mi\u001b[0m \u001b[1;33m+=\u001b[0m \u001b[1;36m1\u001b[0m\u001b[1;33m\u001b[0m\u001b[1;33m\u001b[0m\u001b[0m\n\u001b[1;32m----> 5\u001b[1;33m     \u001b[0mprint\u001b[0m\u001b[1;33m(\u001b[0m\u001b[0ms\u001b[0m\u001b[1;33m[\u001b[0m\u001b[0mi\u001b[0m\u001b[1;33m]\u001b[0m\u001b[1;33m,\u001b[0m\u001b[0mend\u001b[0m\u001b[1;33m=\u001b[0m\u001b[1;34m\"\"\u001b[0m\u001b[1;33m)\u001b[0m\u001b[1;33m\u001b[0m\u001b[1;33m\u001b[0m\u001b[0m\n\u001b[0m\u001b[0;32m      6\u001b[0m \u001b[1;33m\u001b[0m\u001b[0m\n\u001b[0;32m      7\u001b[0m \u001b[1;31m# i=0, s[1] = y\u001b[0m\u001b[1;33m\u001b[0m\u001b[1;33m\u001b[0m\u001b[1;33m\u001b[0m\u001b[0m\n",
            "\u001b[1;31mIndexError\u001b[0m: string index out of range"
          ]
        }
      ],
      "source": [
        "s = \"Python\"\n",
        "i=0\n",
        "while i<len(s): # i<6\n",
        "    i += 1\n",
        "    print(s[i],end=\"\")\n",
        "    \n",
        "# i=0, s[1] = y\n",
        "# i=1, s[2] = t\n",
        "# i=2, s[3] = h\n",
        "# i=3, s[4] = o\n",
        "# i=4, s[5] = n\n",
        "# i=5 ,s[6] = ?? # Error"
      ]
    },
    {
      "cell_type": "code",
      "execution_count": null,
      "id": "839e75a6",
      "metadata": {
        "id": "839e75a6",
        "outputId": "e38e6fd5-4aa3-487c-93db-4b96c507c7a2"
      },
      "outputs": [
        {
          "name": "stdout",
          "output_type": "stream",
          "text": [
            "Bat"
          ]
        },
        {
          "ename": "IndexError",
          "evalue": "string index out of range",
          "output_type": "error",
          "traceback": [
            "\u001b[1;31m---------------------------------------------------------------------------\u001b[0m",
            "\u001b[1;31mIndexError\u001b[0m                                Traceback (most recent call last)",
            "\u001b[1;32m<ipython-input-79-b412b105d12f>\u001b[0m in \u001b[0;36m<module>\u001b[1;34m\u001b[0m\n\u001b[0;32m      3\u001b[0m \u001b[1;32mwhile\u001b[0m \u001b[0mi\u001b[0m\u001b[1;33m<\u001b[0m\u001b[0mlen\u001b[0m\u001b[1;33m(\u001b[0m\u001b[0ms\u001b[0m\u001b[1;33m)\u001b[0m\u001b[1;33m:\u001b[0m \u001b[1;31m# i<3,\u001b[0m\u001b[1;33m\u001b[0m\u001b[1;33m\u001b[0m\u001b[0m\n\u001b[0;32m      4\u001b[0m     \u001b[0mi\u001b[0m \u001b[1;33m+=\u001b[0m \u001b[1;36m1\u001b[0m\u001b[1;33m\u001b[0m\u001b[1;33m\u001b[0m\u001b[0m\n\u001b[1;32m----> 5\u001b[1;33m     \u001b[0mprint\u001b[0m\u001b[1;33m(\u001b[0m\u001b[0ms\u001b[0m\u001b[1;33m[\u001b[0m\u001b[0mi\u001b[0m\u001b[1;33m]\u001b[0m\u001b[1;33m,\u001b[0m\u001b[0mend\u001b[0m\u001b[1;33m=\u001b[0m\u001b[1;34m\"\"\u001b[0m\u001b[1;33m)\u001b[0m\u001b[1;33m\u001b[0m\u001b[1;33m\u001b[0m\u001b[0m\n\u001b[0m\u001b[0;32m      6\u001b[0m \u001b[1;31m# i=-1, s[0] = B\u001b[0m\u001b[1;33m\u001b[0m\u001b[1;33m\u001b[0m\u001b[1;33m\u001b[0m\u001b[0m\n\u001b[0;32m      7\u001b[0m \u001b[1;31m# i=0, s[1] = a\u001b[0m\u001b[1;33m\u001b[0m\u001b[1;33m\u001b[0m\u001b[1;33m\u001b[0m\u001b[0m\n",
            "\u001b[1;31mIndexError\u001b[0m: string index out of range"
          ]
        }
      ],
      "source": [
        "s = \"Bat\"\n",
        "i=-1\n",
        "while i<len(s): # i<3,\n",
        "    i += 1\n",
        "    print(s[i],end=\"\")\n",
        "# i=-1, s[0] = B\n",
        "# i=0, s[1] = a\n",
        "# i=1, s[2] = t\n",
        "# i=2, s[3] = # Error"
      ]
    },
    {
      "cell_type": "code",
      "execution_count": null,
      "id": "e8a11eef",
      "metadata": {
        "id": "e8a11eef",
        "outputId": "cf53f2d5-25d8-4aba-94d8-edaa356422cb"
      },
      "outputs": [
        {
          "name": "stdout",
          "output_type": "stream",
          "text": [
            "Bat"
          ]
        }
      ],
      "source": [
        "s = \"Bat\"\n",
        "i=-1\n",
        "while i<len(s)-1: # i<2\n",
        "    i += 1\n",
        "    print(s[i],end=\"\")\n",
        "# i=-1, s[0] = B\n",
        "# i=0, s[1] = a\n",
        "# i=1, s[2] = t\n",
        "# i=2, while=>False"
      ]
    },
    {
      "cell_type": "code",
      "execution_count": null,
      "id": "2f30da77",
      "metadata": {
        "id": "2f30da77",
        "outputId": "6a7d81d3-aba3-4a80-c73c-6e65ae6ff5d2"
      },
      "outputs": [
        {
          "name": "stdout",
          "output_type": "stream",
          "text": [
            "eom"
          ]
        }
      ],
      "source": [
        "s = \"Welocme\"\n",
        "i=-1\n",
        "while i<len(s)-2: # i<2,\n",
        "    i += 2\n",
        "    print(s[i],end=\"\")"
      ]
    },
    {
      "cell_type": "markdown",
      "id": "f2bec90a",
      "metadata": {
        "id": "f2bec90a"
      },
      "source": [
        "#### break - The moment break keyword in encountered, it takes program control out of the loop"
      ]
    },
    {
      "cell_type": "code",
      "execution_count": null,
      "id": "9be7dbd8",
      "metadata": {
        "id": "9be7dbd8",
        "outputId": "c3e5de2d-9202-4b1e-e45d-f3e1480539e0"
      },
      "outputs": [
        {
          "name": "stdout",
          "output_type": "stream",
          "text": [
            "10\n",
            "11\n"
          ]
        }
      ],
      "source": [
        "for i in range(10,20): # step=1, i = 10,11,12,....,19\n",
        "    if i%3==0: # i=12, 15,18\n",
        "        break\n",
        "    else:\n",
        "        print(i)\n"
      ]
    },
    {
      "cell_type": "code",
      "execution_count": null,
      "id": "e9a75489",
      "metadata": {
        "id": "e9a75489",
        "outputId": "6e2e84aa-c0ee-494d-97e4-503538b622f6"
      },
      "outputs": [
        {
          "name": "stdout",
          "output_type": "stream",
          "text": [
            "10\n",
            "11\n",
            "12\n"
          ]
        }
      ],
      "source": [
        "for i in range(10,20):\n",
        "    if i%3==0:\n",
        "        print(i)\n",
        "        break\n",
        "    else:\n",
        "        print(i)"
      ]
    },
    {
      "cell_type": "code",
      "execution_count": null,
      "id": "ba269e4e",
      "metadata": {
        "id": "ba269e4e",
        "outputId": "ec8ed8cd-1fe4-4a5c-d4ea-8c089d01c9ea"
      },
      "outputs": [
        {
          "name": "stdout",
          "output_type": "stream",
          "text": [
            "10\n"
          ]
        }
      ],
      "source": [
        "for i in range(10,20):\n",
        "    if i%3==0:\n",
        "        print(i)\n",
        "    else:\n",
        "        print(i)\n",
        "        break\n"
      ]
    },
    {
      "cell_type": "code",
      "execution_count": null,
      "id": "41b65210",
      "metadata": {
        "id": "41b65210"
      },
      "outputs": [],
      "source": [
        "for i in range(10,20,2):\n",
        "    if i%3==0:\n",
        "        print(i)\n",
        "    else:\n",
        "        break\n"
      ]
    },
    {
      "cell_type": "code",
      "execution_count": null,
      "id": "a95d353c",
      "metadata": {
        "id": "a95d353c",
        "outputId": "4b393b52-d5b7-4127-a396-2aab15d9a972"
      },
      "outputs": [
        {
          "name": "stdout",
          "output_type": "stream",
          "text": [
            "1\n",
            "2\n",
            "3\n"
          ]
        }
      ],
      "source": [
        "i = 1  # start\n",
        "while i<7:  # end\n",
        "    print(i)\n",
        "    if i%3==0:\n",
        "        break\n",
        "    i+=1"
      ]
    },
    {
      "cell_type": "code",
      "execution_count": null,
      "id": "05914323",
      "metadata": {
        "id": "05914323",
        "outputId": "050f2099-da9b-4262-b254-e6ca9227bbf5"
      },
      "outputs": [
        {
          "name": "stdout",
          "output_type": "stream",
          "text": [
            "30\n",
            "35\n",
            "40\n",
            "45\n",
            "50\n"
          ]
        }
      ],
      "source": [
        "i = 30\n",
        "while i<70:\n",
        "    print(i)\n",
        "    if i>45:\n",
        "        break\n",
        "    i+=5\n",
        "# 30 35 40,45,50"
      ]
    },
    {
      "cell_type": "code",
      "execution_count": null,
      "id": "d335d326",
      "metadata": {
        "id": "d335d326",
        "outputId": "bde14d01-7b25-4136-eb1f-28872f7e7b8f"
      },
      "outputs": [
        {
          "name": "stdout",
          "output_type": "stream",
          "text": [
            "30\n",
            "35\n",
            "40\n",
            "45\n",
            "50\n"
          ]
        }
      ],
      "source": [
        "for i in range(30,71,5):\n",
        "    if i>45:\n",
        "        print(i)\n",
        "        break\n",
        "    else:\n",
        "        print(i)"
      ]
    },
    {
      "cell_type": "markdown",
      "id": "f2ab6f0b",
      "metadata": {
        "id": "f2ab6f0b"
      },
      "source": [
        "#### continue - The moment continue is encountered, it takes the program control to the beginning of the loop\n",
        "The condition at which continue evaluates to be True, that value gets skipped"
      ]
    },
    {
      "cell_type": "code",
      "execution_count": null,
      "id": "3df46cef",
      "metadata": {
        "id": "3df46cef",
        "outputId": "72c42a31-067f-475e-b242-d63bb15d3b08"
      },
      "outputs": [
        {
          "name": "stdout",
          "output_type": "stream",
          "text": [
            "10 11 13 14 16 17 19 "
          ]
        }
      ],
      "source": [
        "for i in range(10,20):  # start=10,end=20,step=+1\n",
        "    if i%3==0:          # 12, 15, 18\n",
        "        continue\n",
        "    else:\n",
        "        print(i,end=\" \")"
      ]
    },
    {
      "cell_type": "code",
      "execution_count": null,
      "id": "9c8160cb",
      "metadata": {
        "id": "9c8160cb",
        "outputId": "84adb3cb-b7c2-4abf-f12d-68fb61afd202"
      },
      "outputs": [
        {
          "name": "stdout",
          "output_type": "stream",
          "text": [
            "12\n",
            "15\n",
            "18\n"
          ]
        }
      ],
      "source": [
        "for i in range(10,20):\n",
        "    if i%3==0:  # 12, 15, 18\n",
        "        print(i)\n",
        "    else:\n",
        "        continue"
      ]
    },
    {
      "cell_type": "code",
      "execution_count": null,
      "id": "c473863b",
      "metadata": {
        "id": "c473863b",
        "outputId": "53c686b5-d739-4199-cab5-55ba391d6946"
      },
      "outputs": [
        {
          "name": "stdout",
          "output_type": "stream",
          "text": [
            "11\n",
            "12\n",
            "13\n",
            "14\n",
            "15\n"
          ]
        }
      ],
      "source": [
        "i = 10\n",
        "while i<20:\n",
        "    i += 1\n",
        "    if i<=15:\n",
        "        print(i)\n",
        "    else:\n",
        "        continue"
      ]
    },
    {
      "cell_type": "code",
      "execution_count": null,
      "id": "256aa333",
      "metadata": {
        "id": "256aa333"
      },
      "outputs": [],
      "source": []
    }
  ],
  "metadata": {
    "kernelspec": {
      "display_name": "Python 3",
      "language": "python",
      "name": "python3"
    },
    "language_info": {
      "codemirror_mode": {
        "name": "ipython",
        "version": 3
      },
      "file_extension": ".py",
      "mimetype": "text/x-python",
      "name": "python",
      "nbconvert_exporter": "python",
      "pygments_lexer": "ipython3",
      "version": "3.8.8"
    },
    "colab": {
      "provenance": [],
      "include_colab_link": true
    }
  },
  "nbformat": 4,
  "nbformat_minor": 5
}