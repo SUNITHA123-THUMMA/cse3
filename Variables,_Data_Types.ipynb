{
  "cells": [
    {
      "cell_type": "markdown",
      "metadata": {
        "id": "view-in-github",
        "colab_type": "text"
      },
      "source": [
        "<a href=\"https://colab.research.google.com/github/SUNITHA123-THUMMA/cse3/blob/master/Variables%2C_Data_Types.ipynb\" target=\"_parent\"><img src=\"https://colab.research.google.com/assets/colab-badge.svg\" alt=\"Open In Colab\"/></a>"
      ]
    },
    {
      "cell_type": "markdown",
      "id": "543d9c6e",
      "metadata": {
        "id": "543d9c6e"
      },
      "source": [
        "#### Jupyter Shortcuts\n",
        "1) Shift + Enter = Run a cell<br>\n",
        "2) Shift + Tab = Displays function definition<br>"
      ]
    },
    {
      "cell_type": "markdown",
      "id": "0192335d",
      "metadata": {
        "id": "0192335d"
      },
      "source": [
        "### Variable\n",
        "1) A variable is a container which is used to store some value. The value can be of any data type<br>\n",
        "2) Multiple variables can be initialized in the same line by separating them by comma<br>\n",
        "3) Variables can be reinitialized, reassigned, redeclared"
      ]
    },
    {
      "cell_type": "code",
      "execution_count": null,
      "id": "74c399d6",
      "metadata": {
        "id": "74c399d6",
        "outputId": "f997c93f-0d41-4114-ca84-f7bc7c96753c"
      },
      "outputs": [
        {
          "name": "stdout",
          "output_type": "stream",
          "text": [
            "15\n"
          ]
        }
      ],
      "source": [
        "a = 15\n",
        "print(a)\n",
        "# a is the variable\n",
        "# 1) The value of 15 is stored in the variable a\n",
        "# 2) The value of 15 is assigned in the variable a\n",
        "# 3) The variable a is initialized with the value of 15"
      ]
    },
    {
      "cell_type": "code",
      "execution_count": null,
      "id": "f713c93b",
      "metadata": {
        "id": "f713c93b",
        "outputId": "5224102b-7033-4d29-b787-4c3ab187ff2a"
      },
      "outputs": [
        {
          "name": "stdout",
          "output_type": "stream",
          "text": [
            "10\n",
            "True\n",
            "hello\n",
            "10 True\n"
          ]
        }
      ],
      "source": [
        "p,q,r = 10,True,\"hello\"\n",
        "print(p) \n",
        "print(q)\n",
        "print(r)\n",
        "print(p,q)"
      ]
    },
    {
      "cell_type": "code",
      "execution_count": null,
      "id": "d2539ed4",
      "metadata": {
        "id": "d2539ed4",
        "outputId": "fb8cb493-4545-4389-eb2f-2025db3d1846"
      },
      "outputs": [
        {
          "name": "stdout",
          "output_type": "stream",
          "text": [
            "10\n",
            "Python\n"
          ]
        }
      ],
      "source": [
        "# Variables can be reinitialized, reassigned, redeclared\n",
        "x = 10\n",
        "print(x)\n",
        "x = \"Python\"\n",
        "print(x)"
      ]
    },
    {
      "cell_type": "markdown",
      "id": "6d845b52",
      "metadata": {
        "id": "6d845b52"
      },
      "source": [
        "#### Rules of Naming a variable\n",
        "\n",
        "1) Start with A-Z, a-z or underscore(_)<br>\n",
        "2) Should not start with number<br>\n",
        "3) Should not contain special characters<br>\n",
        "4) Should not contain python keywords<br>"
      ]
    },
    {
      "cell_type": "code",
      "execution_count": null,
      "id": "8413bb42",
      "metadata": {
        "id": "8413bb42",
        "outputId": "8e1005fd-562b-4979-ce5d-48a03b205ac7"
      },
      "outputs": [
        {
          "name": "stdout",
          "output_type": "stream",
          "text": [
            "Python\n"
          ]
        }
      ],
      "source": [
        "_A1 = \"Python\"\n",
        "print(_A1)"
      ]
    },
    {
      "cell_type": "code",
      "execution_count": null,
      "id": "6ad4bf23",
      "metadata": {
        "id": "6ad4bf23",
        "outputId": "94793066-e63d-449d-b31c-35a558cd18ce"
      },
      "outputs": [
        {
          "ename": "SyntaxError",
          "evalue": "invalid syntax (<ipython-input-15-8e7ac2e5fb21>, line 1)",
          "output_type": "error",
          "traceback": [
            "\u001b[1;36m  File \u001b[1;32m\"<ipython-input-15-8e7ac2e5fb21>\"\u001b[1;36m, line \u001b[1;32m1\u001b[0m\n\u001b[1;33m    324wewr = \"Hello\"\u001b[0m\n\u001b[1;37m       ^\u001b[0m\n\u001b[1;31mSyntaxError\u001b[0m\u001b[1;31m:\u001b[0m invalid syntax\n"
          ]
        }
      ],
      "source": [
        "324wewr = \"Hello\"\n",
        "print(324wewr)"
      ]
    },
    {
      "cell_type": "code",
      "execution_count": null,
      "id": "141ba4a3",
      "metadata": {
        "id": "141ba4a3",
        "outputId": "49ce8080-c1ad-4bf6-a380-16f136acd6c0"
      },
      "outputs": [
        {
          "name": "stdout",
          "output_type": "stream",
          "text": [
            "World\n"
          ]
        }
      ],
      "source": [
        "run123 = \"World\"\n",
        "print(run123)"
      ]
    },
    {
      "cell_type": "code",
      "execution_count": null,
      "id": "da1e7f5e",
      "metadata": {
        "id": "da1e7f5e",
        "outputId": "e6154cea-a9e3-4b91-862f-3490c9effa51"
      },
      "outputs": [
        {
          "name": "stdout",
          "output_type": "stream",
          "text": [
            "15\n"
          ]
        },
        {
          "data": {
            "text/plain": [
              "int"
            ]
          },
          "execution_count": 17,
          "metadata": {},
          "output_type": "execute_result"
        }
      ],
      "source": [
        "w = 15\n",
        "print(w)\n",
        "type(w)"
      ]
    },
    {
      "cell_type": "code",
      "execution_count": null,
      "id": "eccf0e51",
      "metadata": {
        "id": "eccf0e51",
        "outputId": "711100dd-4813-4f5c-ad29-4f7eb94e0f77"
      },
      "outputs": [
        {
          "data": {
            "text/plain": [
              "55"
            ]
          },
          "execution_count": 19,
          "metadata": {},
          "output_type": "execute_result"
        }
      ],
      "source": [
        "w1 = 55\n",
        "w1"
      ]
    },
    {
      "cell_type": "markdown",
      "id": "2320d886",
      "metadata": {
        "id": "2320d886"
      },
      "source": [
        "#### Dynamic Typing\n",
        "The data type of the variable is defined at the run time"
      ]
    },
    {
      "cell_type": "code",
      "execution_count": null,
      "id": "ac2e58b8",
      "metadata": {
        "id": "ac2e58b8",
        "outputId": "14073d54-db23-47bf-a639-955748422c38"
      },
      "outputs": [
        {
          "name": "stdout",
          "output_type": "stream",
          "text": [
            "4\n",
            "<class 'str'>\n"
          ]
        }
      ],
      "source": [
        "# int a = 10\n",
        "g = \"4\"\n",
        "print(g)\n",
        "print(type(g))"
      ]
    },
    {
      "cell_type": "markdown",
      "id": "210faf3d",
      "metadata": {
        "id": "210faf3d"
      },
      "source": [
        "#### Data Types\n",
        "int,float,str,bool,NoneType,complex"
      ]
    },
    {
      "cell_type": "code",
      "execution_count": null,
      "id": "a01a5e9a",
      "metadata": {
        "id": "a01a5e9a",
        "outputId": "3621f592-8359-4a1a-be7e-9b3faacf0e14"
      },
      "outputs": [
        {
          "name": "stdout",
          "output_type": "stream",
          "text": [
            "467\n"
          ]
        },
        {
          "data": {
            "text/plain": [
              "int"
            ]
          },
          "execution_count": 26,
          "metadata": {},
          "output_type": "execute_result"
        }
      ],
      "source": [
        "a1 = 467\n",
        "print(a1)\n",
        "type(a1)"
      ]
    },
    {
      "cell_type": "code",
      "execution_count": null,
      "id": "4908213f",
      "metadata": {
        "id": "4908213f",
        "outputId": "2e906a8a-06c5-43e8-c814-c8eb1f54c2e9"
      },
      "outputs": [
        {
          "name": "stdout",
          "output_type": "stream",
          "text": [
            "32.34\n"
          ]
        },
        {
          "data": {
            "text/plain": [
              "float"
            ]
          },
          "execution_count": 27,
          "metadata": {},
          "output_type": "execute_result"
        }
      ],
      "source": [
        "a2 = 32.34\n",
        "print(a2)\n",
        "type(a2)"
      ]
    },
    {
      "cell_type": "markdown",
      "id": "e4854b8b",
      "metadata": {
        "id": "e4854b8b"
      },
      "source": [
        "#### Strings\n",
        "1) Enclosed in single, double or triple quotes<br>\n",
        "2) Triple quotes are used to write multiline strings\n",
        "\n",
        "        \"\" - Double Quotes\n",
        "        '' - Single Quotes\n",
        "        \"\"\"\"\"\" - Triple quotes\n",
        "        '''''' - Triple quotes"
      ]
    },
    {
      "cell_type": "code",
      "execution_count": null,
      "id": "ac2c6eb6",
      "metadata": {
        "id": "ac2c6eb6",
        "outputId": "837ab80f-571a-4b97-b6af-921e8e0a0520"
      },
      "outputs": [
        {
          "name": "stdout",
          "output_type": "stream",
          "text": [
            "Hello World\n"
          ]
        },
        {
          "data": {
            "text/plain": [
              "str"
            ]
          },
          "execution_count": 29,
          "metadata": {},
          "output_type": "execute_result"
        }
      ],
      "source": [
        "a3 = \"Hello World\"  # \"\" - double quotes\n",
        "a4 = 'Python'       # ''  - single quotes\n",
        "print(a3)\n",
        "type(a4)"
      ]
    },
    {
      "cell_type": "code",
      "execution_count": null,
      "id": "63beba41",
      "metadata": {
        "id": "63beba41",
        "outputId": "0714cf86-6d16-484b-8c86-39ed1cfbf570"
      },
      "outputs": [
        {
          "ename": "SyntaxError",
          "evalue": "EOL while scanning string literal (<ipython-input-30-5950ca671020>, line 1)",
          "output_type": "error",
          "traceback": [
            "\u001b[1;36m  File \u001b[1;32m\"<ipython-input-30-5950ca671020>\"\u001b[1;36m, line \u001b[1;32m1\u001b[0m\n\u001b[1;33m    a5 = \"Google'\u001b[0m\n\u001b[1;37m                 ^\u001b[0m\n\u001b[1;31mSyntaxError\u001b[0m\u001b[1;31m:\u001b[0m EOL while scanning string literal\n"
          ]
        }
      ],
      "source": [
        "a5 = \"Google'\n",
        "print(a5)"
      ]
    },
    {
      "cell_type": "code",
      "execution_count": null,
      "id": "0261cbee",
      "metadata": {
        "id": "0261cbee",
        "outputId": "f9ece82d-5c05-438e-e197-d37976aa395f"
      },
      "outputs": [
        {
          "name": "stdout",
          "output_type": "stream",
          "text": [
            "Russia vs. Ukraine war has affected the world stock market.\n",
            "The market is hitting a new low every day.\n"
          ]
        },
        {
          "data": {
            "text/plain": [
              "str"
            ]
          },
          "execution_count": 32,
          "metadata": {},
          "output_type": "execute_result"
        }
      ],
      "source": [
        "a5 = '''Russia vs. Ukraine war has affected the world stock market.\n",
        "The market is hitting a new low every day.'''\n",
        "print(a5)\n",
        "type(a5)"
      ]
    },
    {
      "cell_type": "code",
      "execution_count": null,
      "id": "7983cd60",
      "metadata": {
        "id": "7983cd60",
        "outputId": "3f42c2c8-e790-433f-e57a-898b72ef5cc2"
      },
      "outputs": [
        {
          "name": "stdout",
          "output_type": "stream",
          "text": [
            "Russia vs. Ukraine war has affected the world stock market.\n",
            "The market is hitting a new low every day.\n"
          ]
        },
        {
          "data": {
            "text/plain": [
              "str"
            ]
          },
          "execution_count": 33,
          "metadata": {},
          "output_type": "execute_result"
        }
      ],
      "source": [
        "a5 = \"\"\"Russia vs. Ukraine war has affected the world stock market.\n",
        "The market is hitting a new low every day.\"\"\"\n",
        "print(a5)\n",
        "type(a5)"
      ]
    },
    {
      "cell_type": "code",
      "execution_count": null,
      "id": "9e96bc5f",
      "metadata": {
        "id": "9e96bc5f",
        "outputId": "aaed8ef5-8525-4659-8af7-480f2f36e38e"
      },
      "outputs": [
        {
          "name": "stdout",
          "output_type": "stream",
          "text": [
            "welcome to India\n"
          ]
        }
      ],
      "source": [
        "d1 = '''welcome to India'''\n",
        "print(d1)"
      ]
    },
    {
      "cell_type": "code",
      "execution_count": null,
      "id": "51bbe84e",
      "metadata": {
        "id": "51bbe84e",
        "outputId": "521e8c46-ade5-481f-a30e-e8b34e341d59"
      },
      "outputs": [
        {
          "name": "stdout",
          "output_type": "stream",
          "text": [
            "welcome to \n",
            "India\n"
          ]
        }
      ],
      "source": [
        "d1 = \"\"\"welcome to \n",
        "India\"\"\"\n",
        "print(d1)"
      ]
    },
    {
      "cell_type": "code",
      "execution_count": null,
      "id": "2abe06f0",
      "metadata": {
        "id": "2abe06f0",
        "outputId": "3e4b483e-4cd9-4e39-b43b-b751eecae430"
      },
      "outputs": [
        {
          "name": "stdout",
          "output_type": "stream",
          "text": [
            "True\n"
          ]
        },
        {
          "data": {
            "text/plain": [
              "bool"
            ]
          },
          "execution_count": 40,
          "metadata": {},
          "output_type": "execute_result"
        }
      ],
      "source": [
        "# bool - True or False\n",
        "a6 = True\n",
        "print(a6)\n",
        "type(a6)"
      ]
    },
    {
      "cell_type": "code",
      "execution_count": null,
      "id": "11a6cc09",
      "metadata": {
        "id": "11a6cc09",
        "outputId": "f9a28a16-3f83-4e89-984f-fa5a3865050c"
      },
      "outputs": [
        {
          "name": "stdout",
          "output_type": "stream",
          "text": [
            "(5+9j)\n"
          ]
        },
        {
          "data": {
            "text/plain": [
              "complex"
            ]
          },
          "execution_count": 44,
          "metadata": {},
          "output_type": "execute_result"
        }
      ],
      "source": [
        "a7 = 5 + 9j\n",
        "print(a7)\n",
        "type(a7)\n",
        "# p + qj => p is the real part, q is the imaginary part, j is square root of -1"
      ]
    },
    {
      "cell_type": "code",
      "execution_count": null,
      "id": "ed5cb68c",
      "metadata": {
        "id": "ed5cb68c",
        "outputId": "a620959c-be61-4cf9-af7e-1a6d1dd5fc9b"
      },
      "outputs": [
        {
          "name": "stdout",
          "output_type": "stream",
          "text": [
            "None\n"
          ]
        },
        {
          "data": {
            "text/plain": [
              "NoneType"
            ]
          },
          "execution_count": 45,
          "metadata": {},
          "output_type": "execute_result"
        }
      ],
      "source": [
        "a8 = None\n",
        "print(a8)\n",
        "type(a8)"
      ]
    },
    {
      "cell_type": "markdown",
      "id": "f21fd283",
      "metadata": {
        "id": "f21fd283"
      },
      "source": [
        "### Operators"
      ]
    },
    {
      "cell_type": "markdown",
      "id": "99f4f65c",
      "metadata": {
        "id": "99f4f65c"
      },
      "source": [
        "#### 1) Arithmetic Operators"
      ]
    },
    {
      "cell_type": "code",
      "execution_count": null,
      "id": "c7bef230",
      "metadata": {
        "id": "c7bef230",
        "outputId": "2034f516-4aa1-47ed-dfa8-c93ea8246ff0"
      },
      "outputs": [
        {
          "name": "stdout",
          "output_type": "stream",
          "text": [
            "7\n",
            "3\n",
            "10\n",
            "2.5\n",
            "2\n",
            "25\n",
            "32\n",
            "1\n"
          ]
        }
      ],
      "source": [
        "a,b = 5,2\n",
        "print(a+b)\n",
        "print(a-b)\n",
        "print(a*b)\n",
        "print(a/b)  # Normal Division - always returns floats\n",
        "print(a//b) # Integer division \n",
        "print(a**b) # Power operators => a raised to power of b\n",
        "print(b**a) # b raised to the power of a\n",
        "print(a%b)  # Mod Operator => Returns remainder"
      ]
    },
    {
      "cell_type": "markdown",
      "id": "5eac18b9",
      "metadata": {
        "id": "5eac18b9"
      },
      "source": [
        "#### 2) Assignment Operator"
      ]
    },
    {
      "cell_type": "code",
      "execution_count": null,
      "id": "22cadc10",
      "metadata": {
        "id": "22cadc10",
        "outputId": "165e3b3c-3ef8-4b0e-fb33-7a4513dcbcfe"
      },
      "outputs": [
        {
          "name": "stdout",
          "output_type": "stream",
          "text": [
            "5 2\n",
            "7 2\n",
            "5 2\n",
            "5 10\n",
            "0.5 10\n"
          ]
        }
      ],
      "source": [
        "a,b = 5,2\n",
        "print(a,b)\n",
        "a += b     # a = a+b\n",
        "print(a,b) # a=7, b=2\n",
        "a -= b     # a = a-b  \n",
        "print(a,b) # a=5, b=2\n",
        "b *= a     # b= b*a\n",
        "print(a,b) # a=5 , b=10\n",
        "a /= b     # a= a/b\n",
        "print(a,b) # a=0.5, b=10 "
      ]
    },
    {
      "cell_type": "code",
      "execution_count": null,
      "id": "f241fde9",
      "metadata": {
        "id": "f241fde9",
        "outputId": "14e3b515-d2cc-4be1-aaab-d8825e677db4"
      },
      "outputs": [
        {
          "name": "stdout",
          "output_type": "stream",
          "text": [
            "5 2\n",
            "25 2\n"
          ]
        }
      ],
      "source": [
        "a,b = 5,2\n",
        "print(a,b)\n",
        "a **= b   # a = a**b\n",
        "print(a,b)"
      ]
    },
    {
      "cell_type": "markdown",
      "id": "3413851a",
      "metadata": {
        "id": "3413851a"
      },
      "source": [
        "#### 3) Relational or Comparison Operators - returns True or False"
      ]
    },
    {
      "cell_type": "code",
      "execution_count": null,
      "id": "5e947356",
      "metadata": {
        "id": "5e947356",
        "outputId": "40068e3c-a41c-4bf7-ec21-993ba575b8a3"
      },
      "outputs": [
        {
          "name": "stdout",
          "output_type": "stream",
          "text": [
            "True\n",
            "True\n",
            "False\n",
            "False\n",
            "True\n",
            "False\n"
          ]
        }
      ],
      "source": [
        "a,b = 5,3\n",
        "print(a>b)\n",
        "print(a>=b)\n",
        "print(a<b)\n",
        "print(a<=b)\n",
        "print(a!=b)  # !=   => Not equal to ( a not equals to b)\n",
        "print(a==b)  # ==   => Equal to  (Comparison)"
      ]
    },
    {
      "cell_type": "markdown",
      "id": "dc890add",
      "metadata": {
        "id": "dc890add"
      },
      "source": [
        "#### 4) Logical Operators - returns True or False\n",
        "\n",
        "and - returns True when both conditions are True, otherwise False \n",
        "\n",
        "or - returns True when either of the conditions is True, otherwise False"
      ]
    },
    {
      "cell_type": "code",
      "execution_count": null,
      "id": "e3fd6096",
      "metadata": {
        "id": "e3fd6096",
        "outputId": "129665db-e687-4716-f9d3-86c90d94435f"
      },
      "outputs": [
        {
          "name": "stdout",
          "output_type": "stream",
          "text": [
            "True\n",
            "False\n",
            "False\n",
            "True\n",
            "True\n",
            "False\n"
          ]
        }
      ],
      "source": [
        "a,b,c = 10,7,15  \n",
        "print(a>b and a<c)  # T\n",
        "print(a<b and c>a)  # F\n",
        "print(a>c and b>c)  # F\n",
        "print(a>b or c<a)   # T\n",
        "print(c>a or b>a)   # T\n",
        "d = True\n",
        "print(not d)"
      ]
    },
    {
      "cell_type": "markdown",
      "id": "543e5383",
      "metadata": {
        "id": "543e5383"
      },
      "source": [
        "#### 5) Membership Operator(in, not in) - returns True or False\n",
        "membership operators works with Strings, List and Tuples,Sets"
      ]
    },
    {
      "cell_type": "code",
      "execution_count": null,
      "id": "dcfdf3a6",
      "metadata": {
        "id": "dcfdf3a6",
        "outputId": "e48b5152-d724-4e77-bff6-adc41f30534d"
      },
      "outputs": [
        {
          "name": "stdout",
          "output_type": "stream",
          "text": [
            "True\n",
            "True\n",
            "True\n",
            "False\n",
            "False\n",
            "True\n",
            "False\n",
            "False\n",
            "True\n",
            "True\n",
            "True\n"
          ]
        }
      ],
      "source": [
        "a = \"Russia vs. Ukraine war has affected the global economy drastically.\"\n",
        "print('war' in a)   # T\n",
        "print(\"cted\" in a)  # T\n",
        "print(\"bal eco\" in a) # T\n",
        "print(\"baleco\" in a)  # F\n",
        "print(\"eco bal\" in a) # F\n",
        "print(\"\"\"Ukraine\"\"\" in a) # T\n",
        "print(\"when\" in a)  # F\n",
        "print(\"has aff\" not in a) # F\n",
        "print(\"happen\" not in a)  # T\n",
        "print('Ukraine w' in a)  # T\n",
        "print('U w' not in a)    # T"
      ]
    },
    {
      "cell_type": "code",
      "execution_count": null,
      "id": "d17d44e5",
      "metadata": {
        "id": "d17d44e5",
        "outputId": "0150c8b3-3bbc-4461-a003-17cfbda89c76"
      },
      "outputs": [
        {
          "name": "stdout",
          "output_type": "stream",
          "text": [
            "Welcome to Python\n",
            "Hello world\n"
          ]
        }
      ],
      "source": [
        "print(\"Welcome to Python\")\n",
        "print('Hello world')"
      ]
    },
    {
      "cell_type": "markdown",
      "id": "1956e2d5",
      "metadata": {
        "id": "1956e2d5"
      },
      "source": [
        "### print and input (Input and Output)\n",
        "\\n - newline character"
      ]
    },
    {
      "cell_type": "code",
      "execution_count": null,
      "id": "39cdaba2",
      "metadata": {
        "id": "39cdaba2",
        "outputId": "689173a0-cab8-44fc-a96c-8e312036f22c"
      },
      "outputs": [
        {
          "name": "stdout",
          "output_type": "stream",
          "text": [
            "welcome to \n",
            "python\n"
          ]
        }
      ],
      "source": [
        "print('welcome to \\npython')"
      ]
    },
    {
      "cell_type": "code",
      "execution_count": null,
      "id": "82f9606d",
      "metadata": {
        "id": "82f9606d",
        "outputId": "ca011c3f-0063-4244-a204-9115ed45ae04"
      },
      "outputs": [
        {
          "name": "stdout",
          "output_type": "stream",
          "text": [
            "78 \n",
            " 45\n",
            "45 78\n",
            "Hello\n"
          ]
        }
      ],
      "source": [
        "w,n = 78,45\n",
        "print(w,'\\n',n)\n",
        "print(n,w)\n",
        "print('Hello')"
      ]
    },
    {
      "cell_type": "markdown",
      "id": "44793e1d",
      "metadata": {
        "id": "44793e1d"
      },
      "source": [
        "#### parameters of print - end and sep\n",
        "end - values passed in end parameter will be displayed at the end"
      ]
    },
    {
      "cell_type": "code",
      "execution_count": null,
      "id": "a14f3542",
      "metadata": {
        "id": "a14f3542",
        "outputId": "7e127bd8-70f3-4961-8660-261a2ed3e51d"
      },
      "outputs": [
        {
          "name": "stdout",
          "output_type": "stream",
          "text": [
            "Hello World Python\n",
            "Hello World Python Welcome Google\n"
          ]
        }
      ],
      "source": [
        "a = \"Hello\"\n",
        "b = \"World\"\n",
        "c = \"Python\"\n",
        "print(a,b,c)  # end ='\\n'\n",
        "print(a,b,c,end=\" Welcome \")\n",
        "print('Google')"
      ]
    },
    {
      "cell_type": "code",
      "execution_count": null,
      "id": "0c9570bb",
      "metadata": {
        "id": "0c9570bb",
        "outputId": "b04bd554-7c01-4e19-de2d-32a2020d7047"
      },
      "outputs": [
        {
          "name": "stdout",
          "output_type": "stream",
          "text": [
            "Python Hello ** Laptop\n"
          ]
        }
      ],
      "source": [
        "print(c,a,end=\" ** \")\n",
        "print('Laptop')"
      ]
    },
    {
      "cell_type": "code",
      "execution_count": null,
      "id": "f621078b",
      "metadata": {
        "id": "f621078b",
        "outputId": "5c187af5-a6a2-4314-9c59-f547a167af5b"
      },
      "outputs": [
        {
          "name": "stdout",
          "output_type": "stream",
          "text": [
            "Hello 21\n"
          ]
        }
      ],
      "source": [
        "print(a,end=\" \")\n",
        "print(7*3)"
      ]
    },
    {
      "cell_type": "code",
      "execution_count": null,
      "id": "83ef1b04",
      "metadata": {
        "id": "83ef1b04",
        "outputId": "58ceef8a-e5ec-4b76-f00b-3653a955fc16"
      },
      "outputs": [
        {
          "name": "stdout",
          "output_type": "stream",
          "text": [
            "Hello World 34 World Python\n"
          ]
        }
      ],
      "source": [
        "print(a,b,end=\" 34 \")\n",
        "print(b,c)"
      ]
    },
    {
      "cell_type": "code",
      "execution_count": null,
      "id": "d89bb78b",
      "metadata": {
        "id": "d89bb78b",
        "outputId": "94a2192f-db87-441d-9a2a-9d9fb7f86811"
      },
      "outputs": [
        {
          "name": "stdout",
          "output_type": "stream",
          "text": [
            "Hello World 34\n",
            "World Python\n"
          ]
        }
      ],
      "source": [
        "print(a,b,end=\" 34\\n\")\n",
        "print(b,c)"
      ]
    },
    {
      "cell_type": "markdown",
      "id": "c7525bf6",
      "metadata": {
        "id": "c7525bf6"
      },
      "source": [
        "#### sep - It is used to sepearate different values that are passed in the print()"
      ]
    },
    {
      "cell_type": "code",
      "execution_count": null,
      "id": "994c8c69",
      "metadata": {
        "id": "994c8c69",
        "outputId": "b90a51b0-7145-490b-a2bd-ea9015e1c5f1"
      },
      "outputs": [
        {
          "name": "stdout",
          "output_type": "stream",
          "text": [
            "Hi Bye Bat\n",
            "Hi__Bye__Bat\n",
            "Hi *** Bye *** Bat\n"
          ]
        }
      ],
      "source": [
        "p,q,r = \"Hi\",\"Bye\",\"Bat\"\n",
        "print(p,q,r)    # Default sep used is \" \"  (empty space)\n",
        "print(p,q,r,sep=\"__\")\n",
        "print(p,q,r,sep=\" *** \")"
      ]
    },
    {
      "cell_type": "code",
      "execution_count": null,
      "id": "e9da7a70",
      "metadata": {
        "id": "e9da7a70",
        "outputId": "3e602658-faad-4b6e-8422-178a8acab746"
      },
      "outputs": [
        {
          "name": "stdout",
          "output_type": "stream",
          "text": [
            "Google\n",
            "Google Python\n",
            "Google Python Meta\n",
            "Google\n",
            "Meta\n"
          ]
        }
      ],
      "source": [
        "p = \"Google\"\n",
        "q = \"Meta\"\n",
        "print(p,sep=\" Python \")  # Google \n",
        "print(p,end=\" Python\\n\")  # Google Python\n",
        "print(p,q,sep=\" Python \")\n",
        "print(p,q,sep=\"\\n\")"
      ]
    },
    {
      "cell_type": "code",
      "execution_count": null,
      "id": "18efc623",
      "metadata": {
        "id": "18efc623",
        "outputId": "898805ce-2d43-4f5e-9d7a-994ef22867cb"
      },
      "outputs": [
        {
          "name": "stdout",
          "output_type": "stream",
          "text": [
            "10 : 20 : 30 *_*"
          ]
        }
      ],
      "source": [
        "a,b,c = 10,20,30\n",
        "print(a,b,c,sep=' : ',end=\" *_*\")"
      ]
    },
    {
      "cell_type": "code",
      "execution_count": null,
      "id": "0b6cf005",
      "metadata": {
        "id": "0b6cf005",
        "outputId": "b9a3eb59-d29b-48c6-de4d-b1dad9ec3cd0"
      },
      "outputs": [
        {
          "name": "stdout",
          "output_type": "stream",
          "text": [
            "5 7 8\n",
            "Hello\n",
            "5 ** 7 ** 8 India "
          ]
        }
      ],
      "source": [
        "x,y,z = 5,7,8\n",
        "print(x,y,z) # end=\"\\n\" sep=\" \"\n",
        "print('Hello')\n",
        "print(x,y,z,sep=\" ** \",end=\" India \")"
      ]
    },
    {
      "cell_type": "markdown",
      "id": "29593967",
      "metadata": {
        "id": "29593967"
      },
      "source": [
        "#### input()\n",
        "1) It is used to accpet user input. Accept data at run time.<br>\n",
        "2) Return type of input() is string"
      ]
    },
    {
      "cell_type": "code",
      "execution_count": null,
      "id": "cd50df2c",
      "metadata": {
        "id": "cd50df2c",
        "outputId": "adb88293-55b5-4f3f-c799-1a23fd965663"
      },
      "outputs": [
        {
          "name": "stdout",
          "output_type": "stream",
          "text": [
            "Enter your name: Amit\n",
            "Amit\n"
          ]
        }
      ],
      "source": [
        "name = input(\"Enter your name: \")\n",
        "print(name)"
      ]
    },
    {
      "cell_type": "code",
      "execution_count": null,
      "id": "89269c3e",
      "metadata": {
        "id": "89269c3e",
        "outputId": "2cab3b60-5ff8-4566-afdf-f94d19fed5e9"
      },
      "outputs": [
        {
          "name": "stdout",
          "output_type": "stream",
          "text": [
            "Hello\n",
            "Hello\n"
          ]
        },
        {
          "data": {
            "text/plain": [
              "str"
            ]
          },
          "execution_count": 87,
          "metadata": {},
          "output_type": "execute_result"
        }
      ],
      "source": [
        "d = input()\n",
        "print(d)\n",
        "type(d)"
      ]
    },
    {
      "cell_type": "markdown",
      "id": "dca2910f",
      "metadata": {
        "id": "dca2910f"
      },
      "source": [
        "#### Typecasting\n",
        "Changing data from one data type to another data type"
      ]
    },
    {
      "cell_type": "code",
      "execution_count": null,
      "id": "0f0f9934",
      "metadata": {
        "id": "0f0f9934",
        "outputId": "441ae063-6153-4dcd-c1a7-ab15691cf82d"
      },
      "outputs": [
        {
          "name": "stdout",
          "output_type": "stream",
          "text": [
            "Enter a number 34\n",
            "34\n"
          ]
        },
        {
          "data": {
            "text/plain": [
              "int"
            ]
          },
          "execution_count": 88,
          "metadata": {},
          "output_type": "execute_result"
        }
      ],
      "source": [
        "n = int(input('Enter a number '))\n",
        "print(n)\n",
        "type(n)"
      ]
    },
    {
      "cell_type": "code",
      "execution_count": null,
      "id": "05031914",
      "metadata": {
        "id": "05031914",
        "outputId": "9402fec6-bbfa-48f1-edd3-c0534871ec1c"
      },
      "outputs": [
        {
          "name": "stdout",
          "output_type": "stream",
          "text": [
            "Enter a number Seven\n"
          ]
        },
        {
          "ename": "ValueError",
          "evalue": "invalid literal for int() with base 10: 'Seven'",
          "output_type": "error",
          "traceback": [
            "\u001b[1;31m---------------------------------------------------------------------------\u001b[0m",
            "\u001b[1;31mValueError\u001b[0m                                Traceback (most recent call last)",
            "\u001b[1;32m<ipython-input-89-698cdb7f7ca0>\u001b[0m in \u001b[0;36m<module>\u001b[1;34m\u001b[0m\n\u001b[1;32m----> 1\u001b[1;33m \u001b[0mn\u001b[0m \u001b[1;33m=\u001b[0m \u001b[0mint\u001b[0m\u001b[1;33m(\u001b[0m\u001b[0minput\u001b[0m\u001b[1;33m(\u001b[0m\u001b[1;34m'Enter a number '\u001b[0m\u001b[1;33m)\u001b[0m\u001b[1;33m)\u001b[0m\u001b[1;33m\u001b[0m\u001b[1;33m\u001b[0m\u001b[0m\n\u001b[0m\u001b[0;32m      2\u001b[0m \u001b[0mprint\u001b[0m\u001b[1;33m(\u001b[0m\u001b[0mn\u001b[0m\u001b[1;33m)\u001b[0m\u001b[1;33m\u001b[0m\u001b[1;33m\u001b[0m\u001b[0m\n\u001b[0;32m      3\u001b[0m \u001b[0mtype\u001b[0m\u001b[1;33m(\u001b[0m\u001b[0mn\u001b[0m\u001b[1;33m)\u001b[0m\u001b[1;33m\u001b[0m\u001b[1;33m\u001b[0m\u001b[0m\n",
            "\u001b[1;31mValueError\u001b[0m: invalid literal for int() with base 10: 'Seven'"
          ]
        }
      ],
      "source": [
        "n = int(input('Enter a number '))\n",
        "print(n)\n",
        "type(n)"
      ]
    },
    {
      "cell_type": "code",
      "execution_count": null,
      "id": "353af9d5",
      "metadata": {
        "id": "353af9d5",
        "outputId": "b06e822d-e790-46b8-b3f4-6d343f278ed8"
      },
      "outputs": [
        {
          "name": "stdout",
          "output_type": "stream",
          "text": [
            "Enter a number 34\n",
            "34\n"
          ]
        },
        {
          "data": {
            "text/plain": [
              "int"
            ]
          },
          "execution_count": 90,
          "metadata": {},
          "output_type": "execute_result"
        }
      ],
      "source": [
        "n = int(input('Enter a number '))\n",
        "print(n)\n",
        "type(n)"
      ]
    },
    {
      "cell_type": "code",
      "execution_count": null,
      "id": "7a842c48",
      "metadata": {
        "id": "7a842c48",
        "outputId": "5545785a-45ca-452a-c273-d4794064fdd9"
      },
      "outputs": [
        {
          "name": "stdout",
          "output_type": "stream",
          "text": [
            "Enter a decimal num: 84.39\n",
            "84.39\n"
          ]
        },
        {
          "data": {
            "text/plain": [
              "float"
            ]
          },
          "execution_count": 91,
          "metadata": {},
          "output_type": "execute_result"
        }
      ],
      "source": [
        "r = float(input('Enter a decimal num: '))\n",
        "print(r)\n",
        "type(r)"
      ]
    },
    {
      "cell_type": "markdown",
      "id": "e0cfce8e",
      "metadata": {
        "id": "e0cfce8e"
      },
      "source": [
        "### print formatting methods"
      ]
    },
    {
      "cell_type": "code",
      "execution_count": null,
      "id": "56387840",
      "metadata": {
        "id": "56387840",
        "outputId": "24638ecb-902e-496e-fe36-88165e47245f"
      },
      "outputs": [
        {
          "name": "stdout",
          "output_type": "stream",
          "text": [
            "Shreya ,whose age is 22 lives in Bangalore\n",
            "Shreya whose age is 22 lives in Bangalore\n",
            "22 whose age is Bangalore lives in Shreya\n",
            "Shreya whose age is 22 lives in Bangalore\n"
          ]
        }
      ],
      "source": [
        "name = \"Shreya\"\n",
        "age = 22\n",
        "city = \"Bangalore\"\n",
        "print(name,',whose age is',age,'lives in',city)      # comma separated method\n",
        "print(f'{name} whose age is {age} lives in {city}')  # f-formatting\n",
        "print(f\"{age} whose age is {city} lives in {name}\")  # f-formatting\n",
        "print(\"{} whose age is {} lives in {}\".format(name,age,city))  # format method"
      ]
    },
    {
      "cell_type": "code",
      "execution_count": null,
      "id": "4a1772de",
      "metadata": {
        "id": "4a1772de"
      },
      "outputs": [],
      "source": [
        "# variables\n",
        "# data types\n",
        "# Operators\n",
        "# input()\n",
        "# print()\n",
        "# end and sep\n",
        "# typecasting\n",
        "# print formatting"
      ]
    },
    {
      "cell_type": "code",
      "execution_count": null,
      "id": "e4306a66",
      "metadata": {
        "id": "e4306a66"
      },
      "outputs": [],
      "source": [
        "# if-else\n",
        "# for \n",
        "# while loop\n",
        "# break and continue"
      ]
    }
  ],
  "metadata": {
    "kernelspec": {
      "display_name": "Python 3",
      "language": "python",
      "name": "python3"
    },
    "language_info": {
      "codemirror_mode": {
        "name": "ipython",
        "version": 3
      },
      "file_extension": ".py",
      "mimetype": "text/x-python",
      "name": "python",
      "nbconvert_exporter": "python",
      "pygments_lexer": "ipython3",
      "version": "3.8.8"
    },
    "colab": {
      "provenance": [],
      "include_colab_link": true
    }
  },
  "nbformat": 4,
  "nbformat_minor": 5
}